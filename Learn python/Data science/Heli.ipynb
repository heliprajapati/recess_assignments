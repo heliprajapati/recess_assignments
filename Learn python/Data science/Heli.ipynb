{
 "cells": [
  {
   "cell_type": "code",
   "execution_count": 1,
   "id": "6be24c9d",
   "metadata": {},
   "outputs": [
    {
     "name": "stdout",
     "output_type": "stream",
     "text": [
      "Empty DataFrame\n",
      "Columns: []\n",
      "Index: []\n"
     ]
    }
   ],
   "source": [
    "#In this example, we'll be working with data from ShoeFly.com, a fictional online shoe store.\n",
    "import pandas as pd\n",
    "df = pd.DataFrame()\n",
    "print (df)"
   ]
  },
  {
   "cell_type": "code",
   "execution_count": 2,
   "id": "abe19e68",
   "metadata": {},
   "outputs": [
    {
     "name": "stdout",
     "output_type": "stream",
     "text": [
      "   Product ID Product Name  Color\n",
      "0           1      t-shirt   blue\n",
      "1           2      t-shirt  green\n",
      "2           3        skirt    red\n",
      "3           4        skirt  black\n"
     ]
    }
   ],
   "source": [
    "#Creating a dataframe\n",
    "#A DataFrame is an object that stores data as rows and columns. \n",
    "#You can think of a DataFrame as a spreadsheet or as a SQL table.\n",
    "df1 = pd.DataFrame({\n",
    "  'Product ID': [1, 2, 3, 4],\n",
    "  'Product Name': ['t-shirt', 't-shirt', 'skirt', 'skirt'],\n",
    "  'Color': ['blue', 'green', 'red', 'black'],\n",
    "})\n",
    "print(df1)"
   ]
  },
  {
   "cell_type": "code",
   "execution_count": 3,
   "id": "8618cf61",
   "metadata": {},
   "outputs": [
    {
     "name": "stdout",
     "output_type": "stream",
     "text": [
      "   Store ID       Location  Number of Employees\n",
      "0         1      San Diego                  100\n",
      "1         2    Los Angeles                  120\n",
      "2         3  San Francisco                   90\n",
      "3         4     Sacramento                  115\n"
     ]
    }
   ],
   "source": [
    "#Using a list of lists to create a DataFrame \n",
    "df2 = pd.DataFrame([\n",
    "  [1, 'San Diego', 100],\n",
    "  [2, 'Los Angeles', 120],\n",
    "  [3, 'San Francisco', 90],\n",
    "  [4, 'Sacramento', 115]\n",
    "],\n",
    "  columns=['Store ID', 'Location', 'Number of Employees'\n",
    "  ])\n",
    "\n",
    "print(df2)"
   ]
  },
  {
   "cell_type": "code",
   "execution_count": 4,
   "id": "7ecf714c",
   "metadata": {},
   "outputs": [
    {
     "name": "stdout",
     "output_type": "stream",
     "text": [
      "Monday       2023-06-19\n",
      "Tuesday      2023-06-20\n",
      "Wednesday    2023-06-21\n",
      "Thursday     2023-06-22\n",
      "Friday       2023-06-23\n",
      "dtype: object\n"
     ]
    }
   ],
   "source": [
    "#Create a simple Pandas Series from a dictionary: For days and dates\n",
    "import pandas as pd\n",
    "# Dictionary containing days and dates\n",
    "dict = {\n",
    "    'Monday': '2023-06-19',\n",
    "    'Tuesday': '2023-06-20',\n",
    "    'Wednesday': '2023-06-21',\n",
    "    'Thursday': '2023-06-22',\n",
    "    'Friday': '2023-06-23'\n",
    "}\n",
    "# Create a Pandas Series from the dictionary keys and values\n",
    "series = pd.Series(list(dict.values()), index=list(dict.keys()))\n",
    "# Print the Series\n",
    "print(series)"
   ]
  },
  {
   "cell_type": "code",
   "execution_count": 5,
   "id": "8c6437e8",
   "metadata": {},
   "outputs": [
    {
     "name": "stdout",
     "output_type": "stream",
     "text": [
      "CSV file 'data.csv' created successfully!\n"
     ]
    }
   ],
   "source": [
    "#To create a CSV file,we use the read_csv() function to import a CSV file\n",
    "import csv\n",
    "# Define the data to be written into the CSV file\n",
    "data = [\n",
    "    ('Name', 'Age', 'City'),\n",
    "    ('John', 25, 'New York'),\n",
    "    ('Emily', 30, 'London'),\n",
    "    ('Michael', 35, 'Paris')\n",
    "]\n",
    "\n",
    "# Specify the file path and name for the CSV file\n",
    "csv_file = 'data.csv'\n",
    "\n",
    "# Open the file in write mode and create a CSV writer object\n",
    "with open(csv_file, 'w', newline='') as file:\n",
    "    writer = csv.writer(file)\n",
    "    \n",
    "    # Write the data into the CSV file row by row\n",
    "    for row in data:\n",
    "        writer.writerow(row)\n",
    "\n",
    "print(f\"CSV file '{csv_file}' created successfully!\")"
   ]
  },
  {
   "cell_type": "code",
   "execution_count": 6,
   "id": "fa941660",
   "metadata": {},
   "outputs": [
    {
     "name": "stdout",
     "output_type": "stream",
     "text": [
      "      Name  Age      City\n",
      "0     John   25  New York\n",
      "1    Emily   30    London\n",
      "2  Michael   35     Paris\n"
     ]
    }
   ],
   "source": [
    "#Extract and Read Data\n",
    "data = pd.read_csv('data.csv')\n",
    "print(data)"
   ]
  },
  {
   "cell_type": "code",
   "execution_count": 7,
   "id": "dc75ddd3",
   "metadata": {},
   "outputs": [
    {
     "name": "stdout",
     "output_type": "stream",
     "text": [
      "        Age\n",
      "count   3.0\n",
      "mean   30.0\n",
      "std     5.0\n",
      "min    25.0\n",
      "25%    27.5\n",
      "50%    30.0\n",
      "75%    32.5\n",
      "max    35.0\n"
     ]
    }
   ],
   "source": [
    "#Analyze the data\n",
    "print(data.describe())"
   ]
  },
  {
   "cell_type": "code",
   "execution_count": null,
   "id": "92065260",
   "metadata": {},
   "outputs": [],
   "source": []
  }
 ],
 "metadata": {
  "kernelspec": {
   "display_name": "Python 3 (ipykernel)",
   "language": "python",
   "name": "python3"
  },
  "language_info": {
   "codemirror_mode": {
    "name": "ipython",
    "version": 3
   },
   "file_extension": ".py",
   "mimetype": "text/x-python",
   "name": "python",
   "nbconvert_exporter": "python",
   "pygments_lexer": "ipython3",
   "version": "3.11.4"
  }
 },
 "nbformat": 4,
 "nbformat_minor": 5
}
